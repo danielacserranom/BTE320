{
  "nbformat": 4,
  "nbformat_minor": 0,
  "metadata": {
    "colab": {
      "provenance": [],
      "authorship_tag": "ABX9TyNX+QvEVNAxn6lrO5z65STC",
      "include_colab_link": true
    },
    "kernelspec": {
      "name": "python3",
      "display_name": "Python 3"
    },
    "language_info": {
      "name": "python"
    }
  },
  "cells": [
    {
      "cell_type": "markdown",
      "metadata": {
        "id": "view-in-github",
        "colab_type": "text"
      },
      "source": [
        "<a href=\"https://colab.research.google.com/github/danielacserranom/BTE320/blob/main/InClassAssignments.ipynb\" target=\"_parent\"><img src=\"https://colab.research.google.com/assets/colab-badge.svg\" alt=\"Open In Colab\"/></a>"
      ]
    },
    {
      "cell_type": "markdown",
      "source": [
        "**Assignment #1**"
      ],
      "metadata": {
        "id": "2xbaEzY8oODL"
      }
    },
    {
      "cell_type": "code",
      "execution_count": null,
      "metadata": {
        "colab": {
          "base_uri": "https://localhost:8080/"
        },
        "id": "qDZqdJKDaSKt",
        "outputId": "194b9f05-7f8a-403f-ef3b-868e27afc3a6"
      },
      "outputs": [
        {
          "output_type": "stream",
          "name": "stdout",
          "text": [
            "Enter sales ($): 12000\n",
            "Sales: $12000.0\n",
            "Enter tax rate (%): 30\n",
            "Tax Rate: 0.3\n",
            "cogs: $4800.0\n",
            "Gross_Profit: $7200.0\n",
            "Taxes: $2160.0\n",
            "Net_Profit: $5040.0\n"
          ]
        }
      ],
      "source": [
        "sales = float(input(\"Enter sales ($): \"))\n",
        "print(f\"Sales: ${sales}\")\n",
        "rate = float(input(\"Enter tax rate (%): \"))\n",
        "print(f\"Tax Rate: {tax_rate}\")\n",
        "\n",
        "# Cost of Goods Sold\n",
        "cogs = 0.4\n",
        "cogs_sold= sales * cogs\n",
        "print(f\"cogs: ${cogs_sold}\")\n",
        "\n",
        "# Gross Profit\n",
        "Gross_rofit = sales - (cogs * sales)\n",
        "print(f\"Gross_Profit: ${Gross_Profit}\")\n",
        "\n",
        "# Taxes\n",
        "taxes = (rate/100) * Gross_rofit\n",
        "print(f\"Taxes: ${taxes}\")\n",
        "\n",
        "# Net Income\n",
        "net_profit = Gross_rofit - taxes\n",
        "print(f\"Net_Profit: ${net_profit}\")\n",
        "\n"
      ]
    },
    {
      "cell_type": "markdown",
      "source": [
        "**Assignment #2**"
      ],
      "metadata": {
        "id": "dROEvPqooSlk"
      }
    },
    {
      "cell_type": "code",
      "source": [
        "#Inputs: demand, reorder cost, holding cost\n",
        "demand = input(\"Enter demand (units/year): \")\n",
        "demand = int(demand)\n",
        "\n",
        "reorder = input(\"Enter reorder cost ($/unit): \")\n",
        "reorder = float(reorder)\n",
        "\n",
        "holding = input(\"Enter holding cost ($/unit/year): \")\n",
        "holding = float(holding)\n",
        "\n",
        "#Process: Calculate EDQ\n",
        "eoq = (2 * demand * reorder / holding) ** 0.5\n",
        "\n",
        "#Output: Display EOQ value\n",
        "print(f\"EOQ = {eoq} units\")"
      ],
      "metadata": {
        "colab": {
          "base_uri": "https://localhost:8080/"
        },
        "id": "f2-4XO_fn9Yi",
        "outputId": "dd27acfd-cb2e-4d93-dffa-49424419a9d2"
      },
      "execution_count": null,
      "outputs": [
        {
          "output_type": "stream",
          "name": "stdout",
          "text": [
            "Enter demand (units/year): 100\n",
            "Enter reorder cost ($/unit): 1.5\n",
            "Enter holding cost ($/unit/year): 3\n",
            "EOQ = 10.0 units\n"
          ]
        }
      ]
    },
    {
      "cell_type": "markdown",
      "source": [
        "**Assignment #3**"
      ],
      "metadata": {
        "id": "Jd9UidI0szkJ"
      }
    },
    {
      "cell_type": "code",
      "source": [
        "n1 = float(input('Enter first number:'))\n",
        "n2 = float(input('Enter second number:'))\n",
        "op = input('Choose numerical operator(+, -, *, /, //, **, %):')\n",
        "\n",
        "if op == '+':\n",
        "  print(f'{n1}+{n2}={n1+n2}')\n",
        "elif op == '-':\n",
        "  print(f'{n1}-{n2}={n1-n2}')\n",
        "elif op == '*':\n",
        "  print(f'{n1}*{n2}={n1*n2}')\n",
        "elif op == '/':\n",
        "  print(f'{n1}/{n2}={n1/n2}')\n",
        "elif op == '//':\n",
        "  print(f'{n1}//{n2}={n1//n2}')\n",
        "elif op == '**':\n",
        "  print(f'{n1}**{n2}={n1**n2}')\n",
        "elif op == '%':\n",
        "  print(f'{n1}%{n2}={n1%n2}')\n",
        "else:\n",
        "  print('Invalid operator')\n"
      ],
      "metadata": {
        "colab": {
          "base_uri": "https://localhost:8080/"
        },
        "id": "9GzxQNSwsvkR",
        "outputId": "c79367dc-67b0-4d4d-bc69-25a87715e672"
      },
      "execution_count": null,
      "outputs": [
        {
          "output_type": "stream",
          "name": "stdout",
          "text": [
            "Enter first number:8\n",
            "Enter second number:5\n",
            "Choose numerical operator(+, -, *, /, //, **, %):#\n",
            "Invalid operator\n"
          ]
        }
      ]
    },
    {
      "cell_type": "markdown",
      "source": [
        "**Assignment #4**\n",
        "\n",
        "A parking garage charges 5 plus 2.50 for each hour parked. Write a program that prints the number of hours parked and the corresponding fee side-by-side, from 1 to 8 hours. Bonus: The minimum fee is 10 and the maximum fee is 20."
      ],
      "metadata": {
        "id": "E9g1x8eFcW6i"
      }
    },
    {
      "cell_type": "code",
      "source": [
        "print('# of Hours\\tFee($)')\n",
        "print('....................')\n",
        "for hours in range(1, 9):\n",
        "  fee = 5 + hours * 2.5\n",
        "  if fee < 10:\n",
        "    fee = 10.0\n",
        "    print(f\"{hours}\\t\\t{fee}\")\n",
        "  elif fee > 20:\n",
        "    fee = 20.0\n",
        "    print(f\"{hours}\\t\\t{fee}\")\n",
        "  else:\n",
        "    print(f\"{hours}\\t\\t{fee}\")"
      ],
      "metadata": {
        "colab": {
          "base_uri": "https://localhost:8080/"
        },
        "id": "G7PIpYlScdBF",
        "outputId": "17116eb4-8949-490f-e622-33a22f939da0"
      },
      "execution_count": null,
      "outputs": [
        {
          "output_type": "stream",
          "name": "stdout",
          "text": [
            "# of Hours\tFee($)\n",
            "....................\n",
            "1\t\t10.0\n",
            "2\t\t10.0\n",
            "3\t\t12.5\n",
            "4\t\t15.0\n",
            "5\t\t17.5\n",
            "6\t\t20.0\n",
            "7\t\t20.0\n",
            "8\t\t20.0\n"
          ]
        }
      ]
    },
    {
      "cell_type": "markdown",
      "source": [
        "**Assignment #5**"
      ],
      "metadata": {
        "id": "Uu8Lr3N0yNf-"
      }
    },
    {
      "cell_type": "code",
      "source": [
        "for adCost in range(0,201,25):\n",
        "  AA = 2*((adCost)**(0.5))\n",
        "  Profit = ((AA+20)*10) - 200 - adCost\n",
        "  print(f'{adCost}\\t\\t{round(Profit)}')"
      ],
      "metadata": {
        "id": "-pojknHUySNx",
        "colab": {
          "base_uri": "https://localhost:8080/"
        },
        "outputId": "57c127f9-5914-48b6-b025-70af0913fea4"
      },
      "execution_count": null,
      "outputs": [
        {
          "output_type": "stream",
          "name": "stdout",
          "text": [
            "0\t\t0\n",
            "25\t\t75\n",
            "50\t\t91\n",
            "75\t\t98\n",
            "100\t\t100\n",
            "125\t\t99\n",
            "150\t\t95\n",
            "175\t\t90\n",
            "200\t\t83\n"
          ]
        }
      ]
    },
    {
      "cell_type": "markdown",
      "source": [
        "**Assignment #6**\n",
        "\n",
        "Starting with an empty list, design a program in Python that populates the list by repeatedly asking the user for numerical inputs. The process stops when the user gives 0. Finally, the list should be displayed in descending order."
      ],
      "metadata": {
        "id": "ofh693cmySj6"
      }
    },
    {
      "cell_type": "code",
      "source": [
        "numbers = []   # start with an empty list\n",
        "num = float(input('Give a number: '))\n",
        "\n",
        "while num !=0:\n",
        "  numbers.append(num)\n",
        "  num = float(input('Give another number: '))\n",
        "\n",
        "numbers.sort(reverse=True)\n",
        "print(numbers)\n"
      ],
      "metadata": {
        "colab": {
          "base_uri": "https://localhost:8080/"
        },
        "id": "-tXpLvEoyXCA",
        "outputId": "7ef2ca55-c704-4585-b2ae-4997096bc852"
      },
      "execution_count": null,
      "outputs": [
        {
          "output_type": "stream",
          "name": "stdout",
          "text": [
            "Give a number: 8\n",
            "Give another number: 2\n",
            "Give another number: 6\n",
            "Give another number: 5\n",
            "Give another number: 0\n",
            "[8.0, 6.0, 5.0, 2.0]\n"
          ]
        }
      ]
    },
    {
      "cell_type": "markdown",
      "source": [
        "**Assignment #7**"
      ],
      "metadata": {
        "id": "s5_Op-Bp5QEg"
      }
    },
    {
      "cell_type": "code",
      "source": [
        "import random\n",
        "\n",
        "play = input('Do you want to play? ').strip().lower()\n",
        "\n",
        "while play=='yes' and play!='no':\n",
        "  computer = random.choice(['rock', 'paper', 'scissors'])\n",
        "  user = input(\"User choice (rock, paper, scissors): \").strip().lower()\n",
        "\n",
        "  if user == computer:\n",
        "    print(f'User:{user}, Computer:{computer}')\n",
        "    print('Draw')\n",
        "\n",
        "  elif (\n",
        "    (user == 'rock' and computer == 'scissors') or\n",
        "    (user == 'scissors' and computer == 'paper') or\n",
        "    (user == 'paper' and computer == 'rock')):\n",
        "    print(f'User:{user}, Computer:{computer}')\n",
        "    print('You win!')\n",
        "\n",
        "  else:\n",
        "    print(f'User:{user}, Computer:{computer}')\n",
        "    print('Computer wins')\n",
        "\n",
        "  play=input(\"Do you wish to continue?\")"
      ],
      "metadata": {
        "id": "gHZegs-25OE5",
        "outputId": "4c7f19ee-bf33-4ed0-b789-ea66ee34e8a5",
        "colab": {
          "base_uri": "https://localhost:8080/"
        }
      },
      "execution_count": null,
      "outputs": [
        {
          "name": "stdout",
          "output_type": "stream",
          "text": [
            "Do you want to play? yes\n",
            "User choice (rock, paper, scissors): paper\n",
            "User:paper, Computer:paper\n",
            "Draw\n",
            "Do you wish to continue?yes\n",
            "User choice (rock, paper, scissors): rock\n",
            "User:rock, Computer:paper\n",
            "Computer wins\n",
            "Do you wish to continue?no\n"
          ]
        }
      ]
    },
    {
      "cell_type": "markdown",
      "source": [
        "**Assignment #8**\n",
        "\n",
        "A company sells two products, their prices are:\n",
        "\n",
        "P-01 $9.95\n",
        "\n",
        "P-02 $10.50\n",
        "\n",
        "Write a program that sets up a dictionary with product IDs as keys and prices as their values. Prompt the user to enter a product ID, then display that products's price.\n",
        "\n",
        "Sample run:\n",
        "\n",
        "Enter product ID: P-01\n",
        "\n",
        "P-01 9.95"
      ],
      "metadata": {
        "id": "_0jtao6X50L9"
      }
    },
    {
      "cell_type": "code",
      "source": [
        "products = {\n",
        "    'P-01': 9.95,\n",
        "    'P-02': 10.5\n",
        "}\n",
        "\n",
        "id = input('Enter product ID:')\n",
        "\n",
        "if id in products:\n",
        "  print(f'Product ID: {id}, Price: {products[id]}$')\n",
        "else:\n",
        "  print(f'Product ID {id} not found')"
      ],
      "metadata": {
        "colab": {
          "base_uri": "https://localhost:8080/"
        },
        "id": "ErFsfqil55ZX",
        "outputId": "f8e659e1-2c2f-4086-bcf7-6142cbdd29b9"
      },
      "execution_count": null,
      "outputs": [
        {
          "output_type": "stream",
          "name": "stdout",
          "text": [
            "Enter product ID:P-03\n",
            "Product ID P-03 not found\n"
          ]
        }
      ]
    },
    {
      "cell_type": "markdown",
      "source": [
        "**Assignment #9**\n",
        "\n",
        "Populate an empty dictionary iteratively N times (choose your own value for N) to add name: count pairs. The key must be given as input from the user on every iteration. Use conditionals to test if the key has been used before. If not, set count to 1; otherwise, increse count by 1."
      ],
      "metadata": {
        "id": "Pau6jZqm_MWM"
      }
    },
    {
      "cell_type": "code",
      "source": [
        "names = {}\n",
        "\n",
        "for i in range(5):\n",
        "  name = input('Enter a name:')\n",
        "\n",
        "  if name in names:\n",
        "    names[name] = names[name] + 1 #names[name]+=1\n",
        "  else:\n",
        "    names[name]= 1\n",
        "\n",
        "  print(names)"
      ],
      "metadata": {
        "colab": {
          "base_uri": "https://localhost:8080/"
        },
        "id": "bOIoZDos_Rfa",
        "outputId": "2db1e6fa-cf50-4e24-91d8-734bf9d1886c"
      },
      "execution_count": null,
      "outputs": [
        {
          "output_type": "stream",
          "name": "stdout",
          "text": [
            "Enter a name:bob\n",
            "{'bob': 1}\n",
            "Enter a name:alice\n",
            "{'bob': 1, 'alice': 1}\n",
            "Enter a name:bob\n",
            "{'bob': 2, 'alice': 1}\n",
            "Enter a name:eve\n",
            "{'bob': 2, 'alice': 1, 'eve': 1}\n",
            "Enter a name:alice\n",
            "{'bob': 2, 'alice': 2, 'eve': 1}\n"
          ]
        }
      ]
    },
    {
      "cell_type": "markdown",
      "source": [
        "**Assignment #10**\n",
        "\n",
        "\n",
        "*   Revisit the parking garage problem from before. Wrap the iterative process into a function that takes as input parameter the number of parking hours and returns the fee.\n",
        "*   **Bonus:** Use a second main() function where the user dynamically assigns the number of hours from the keyboard. This function takes no input parameter, but rather calls calcFee()and returns the fee.\n",
        "\n"
      ],
      "metadata": {
        "id": "Pe-rpLQ5yFNd"
      }
    },
    {
      "cell_type": "code",
      "source": [
        "def calcFee(h):\n",
        "  fee = 5 + 2.5 * h\n",
        "  if fee < 10:\n",
        "    return 10.0\n",
        "  elif fee > 20:\n",
        "    return 20.0\n",
        "  else:\n",
        "    return fee\n",
        "\n",
        "fee = calcFee(1)\n",
        "print(fee)\n"
      ],
      "metadata": {
        "colab": {
          "base_uri": "https://localhost:8080/"
        },
        "id": "hAcmR3cWzLux",
        "outputId": "89a359e6-ee72-4e05-c494-d2f1e0f98bc4"
      },
      "execution_count": null,
      "outputs": [
        {
          "output_type": "stream",
          "name": "stdout",
          "text": [
            "10.0\n"
          ]
        }
      ]
    },
    {
      "cell_type": "markdown",
      "source": [
        "**Bonus**"
      ],
      "metadata": {
        "id": "naeA4FAQ3p6U"
      }
    },
    {
      "cell_type": "code",
      "source": [
        "def calcFee(h):\n",
        "  fee = 5 + 2.5 * h\n",
        "  if fee < 10:\n",
        "    return 10.0\n",
        "  elif fee > 20:\n",
        "    return 20.0\n",
        "  else:\n",
        "    return fee\n",
        "\n",
        "def main():\n",
        "  hours = int(input('Enter number of hours: '))\n",
        "  fee = calcFee(hours)\n",
        "  print(fee)\n",
        "\n",
        "\n",
        "main()"
      ],
      "metadata": {
        "colab": {
          "base_uri": "https://localhost:8080/"
        },
        "id": "ocAUWjFK3vzx",
        "outputId": "f80f1287-f4bb-42d3-bfac-a512aac11415"
      },
      "execution_count": null,
      "outputs": [
        {
          "output_type": "stream",
          "name": "stdout",
          "text": [
            "Enter number of hours: 5\n",
            "17.5\n"
          ]
        }
      ]
    },
    {
      "cell_type": "markdown",
      "source": [
        "**Assignment #11**\n",
        "\n",
        "Create a recursive funcion that takes as input a strig and returns it reversed.\n",
        "\n",
        "Examples:\n",
        "\n",
        "*   reverse('hello')--> 'olleh\n",
        "*   reverse('12345) --> '54321'\n",
        "\n"
      ],
      "metadata": {
        "id": "LzIBeN5S6P3M"
      }
    },
    {
      "cell_type": "code",
      "source": [
        "def reverse(s):\n",
        "    if len(s) < 2:\n",
        "        return s\n",
        "    else:\n",
        "        return reverse(s[1:]) + s[0]\n",
        "\n",
        "print(reverse('daniela'))\n"
      ],
      "metadata": {
        "colab": {
          "base_uri": "https://localhost:8080/"
        },
        "id": "ZgfZLoeU6vDL",
        "outputId": "96191e08-46b9-471e-c7a1-c82320b84f0b"
      },
      "execution_count": 3,
      "outputs": [
        {
          "output_type": "stream",
          "name": "stdout",
          "text": [
            "aleinad\n"
          ]
        }
      ]
    }
  ]
}