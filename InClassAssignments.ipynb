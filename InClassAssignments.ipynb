{
  "nbformat": 4,
  "nbformat_minor": 0,
  "metadata": {
    "colab": {
      "provenance": [],
      "authorship_tag": "ABX9TyOb8PhTZgRPnDvjxg3D7RLD",
      "include_colab_link": true
    },
    "kernelspec": {
      "name": "python3",
      "display_name": "Python 3"
    },
    "language_info": {
      "name": "python"
    }
  },
  "cells": [
    {
      "cell_type": "markdown",
      "metadata": {
        "id": "view-in-github",
        "colab_type": "text"
      },
      "source": [
        "<a href=\"https://colab.research.google.com/github/danielacserranom/BTE320/blob/main/InClassAssignments.ipynb\" target=\"_parent\"><img src=\"https://colab.research.google.com/assets/colab-badge.svg\" alt=\"Open In Colab\"/></a>"
      ]
    },
    {
      "cell_type": "markdown",
      "source": [
        "**Assignment #1**"
      ],
      "metadata": {
        "id": "2xbaEzY8oODL"
      }
    },
    {
      "cell_type": "code",
      "execution_count": null,
      "metadata": {
        "colab": {
          "base_uri": "https://localhost:8080/"
        },
        "id": "qDZqdJKDaSKt",
        "outputId": "194b9f05-7f8a-403f-ef3b-868e27afc3a6"
      },
      "outputs": [
        {
          "output_type": "stream",
          "name": "stdout",
          "text": [
            "Enter sales ($): 12000\n",
            "Sales: $12000.0\n",
            "Enter tax rate (%): 30\n",
            "Tax Rate: 0.3\n",
            "cogs: $4800.0\n",
            "Gross_Profit: $7200.0\n",
            "Taxes: $2160.0\n",
            "Net_Profit: $5040.0\n"
          ]
        }
      ],
      "source": [
        "sales = float(input(\"Enter sales ($): \"))\n",
        "print(f\"Sales: ${sales}\")\n",
        "rate = float(input(\"Enter tax rate (%): \"))\n",
        "print(f\"Tax Rate: {tax_rate}\")\n",
        "\n",
        "# Cost of Goods Sold\n",
        "cogs = 0.4\n",
        "cogs_sold= sales * cogs\n",
        "print(f\"cogs: ${cogs_sold}\")\n",
        "\n",
        "# Gross Profit\n",
        "Gross_rofit = sales - (cogs * sales)\n",
        "print(f\"Gross_Profit: ${Gross_Profit}\")\n",
        "\n",
        "# Taxes\n",
        "taxes = (rate/100) * Gross_rofit\n",
        "print(f\"Taxes: ${taxes}\")\n",
        "\n",
        "# Net Income\n",
        "net_profit = Gross_rofit - taxes\n",
        "print(f\"Net_Profit: ${net_profit}\")\n",
        "\n"
      ]
    },
    {
      "cell_type": "markdown",
      "source": [
        "**Assignment #2**"
      ],
      "metadata": {
        "id": "dROEvPqooSlk"
      }
    },
    {
      "cell_type": "code",
      "source": [
        "#Inputs: demand, reorder cost, holding cost\n",
        "demand = input(\"Enter demand (units/year): \")\n",
        "demand = int(demand)\n",
        "\n",
        "reorder = input(\"Enter reorder cost ($/unit): \")\n",
        "reorder = float(reorder)\n",
        "\n",
        "holding = input(\"Enter holding cost ($/unit/year): \")\n",
        "holding = float(holding)\n",
        "\n",
        "#Process: Calculate EDQ\n",
        "eoq = (2 * demand * reorder / holding) ** 0.5\n",
        "\n",
        "#Output: Display EOQ value\n",
        "print(f\"EOQ = {eoq} units\")"
      ],
      "metadata": {
        "colab": {
          "base_uri": "https://localhost:8080/"
        },
        "id": "f2-4XO_fn9Yi",
        "outputId": "dd27acfd-cb2e-4d93-dffa-49424419a9d2"
      },
      "execution_count": null,
      "outputs": [
        {
          "output_type": "stream",
          "name": "stdout",
          "text": [
            "Enter demand (units/year): 100\n",
            "Enter reorder cost ($/unit): 1.5\n",
            "Enter holding cost ($/unit/year): 3\n",
            "EOQ = 10.0 units\n"
          ]
        }
      ]
    },
    {
      "cell_type": "markdown",
      "source": [
        "**Assignment #3**"
      ],
      "metadata": {
        "id": "Jd9UidI0szkJ"
      }
    },
    {
      "cell_type": "code",
      "source": [
        "n1 = float(input('Enter first number:'))\n",
        "n2 = float(input('Enter second number:'))\n",
        "op = input('Choose numerical operator(+, -, *, /, //, **, %):')\n",
        "\n",
        "if op == '+':\n",
        "  print(f'{n1}+{n2}={n1+n2}')\n",
        "elif op == '-':\n",
        "  print(f'{n1}-{n2}={n1-n2}')\n",
        "elif op == '*':\n",
        "  print(f'{n1}*{n2}={n1*n2}')\n",
        "elif op == '/':\n",
        "  print(f'{n1}/{n2}={n1/n2}')\n",
        "elif op == '//':\n",
        "  print(f'{n1}//{n2}={n1//n2}')\n",
        "elif op == '**':\n",
        "  print(f'{n1}**{n2}={n1**n2}')\n",
        "elif op == '%':\n",
        "  print(f'{n1}%{n2}={n1%n2}')\n",
        "else:\n",
        "  print('Invalid operator')\n"
      ],
      "metadata": {
        "colab": {
          "base_uri": "https://localhost:8080/"
        },
        "id": "9GzxQNSwsvkR",
        "outputId": "c79367dc-67b0-4d4d-bc69-25a87715e672"
      },
      "execution_count": 8,
      "outputs": [
        {
          "output_type": "stream",
          "name": "stdout",
          "text": [
            "Enter first number:8\n",
            "Enter second number:5\n",
            "Choose numerical operator(+, -, *, /, //, **, %):#\n",
            "Invalid operator\n"
          ]
        }
      ]
    }
  ]
}